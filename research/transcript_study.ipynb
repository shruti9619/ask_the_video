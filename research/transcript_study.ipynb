{
 "cells": [
  {
   "cell_type": "code",
   "execution_count": 1,
   "metadata": {},
   "outputs": [],
   "source": [
    "from youtube_transcript_api import YouTubeTranscriptApi\n",
    "import numpy as np\n",
    "\n",
    "# josh statquest vid\n",
    "video_id = \"FgakZw6K1QQ\"\n",
    "transcript = YouTubeTranscriptApi.get_transcript(video_id, languages = ['en'])\n"
   ]
  },
  {
   "cell_type": "code",
   "execution_count": 2,
   "metadata": {},
   "outputs": [
    {
     "name": "stdout",
     "output_type": "stream",
     "text": [
      "<class 'list'>\n",
      "{   'duration': 6.5,\n",
      "    'start': 0.5,\n",
      "    'text': 'StatQuest breaks it down into bite-sized pieces, hooray!'}\n"
     ]
    }
   ],
   "source": [
    "import pprint \n",
    "pp = pprint.PrettyPrinter(indent=4)\n",
    "\n",
    "print(type(transcript))\n",
    "pp.pprint(transcript[0])"
   ]
  },
  {
   "cell_type": "code",
   "execution_count": 3,
   "metadata": {},
   "outputs": [
    {
     "name": "stdout",
     "output_type": "stream",
     "text": [
      "180\n",
      "{   'duration': 5.475,\n",
      "    'start': 1307.787,\n",
      "    'text': 'link to my bandcamp page is in the lower right corner and in the '\n",
      "            'description below. All right until next time quest on!'}\n"
     ]
    }
   ],
   "source": [
    "print(len(transcript))\n",
    "pp.pprint(transcript[-1])"
   ]
  },
  {
   "cell_type": "markdown",
   "metadata": {},
   "source": [
    "### The transcript has 180 chunks in the way it is formatted. \n",
    "Are these chunks proper sentences or paragraphs? What is the length of these texts? Are they appropriate to directly plug into the vector index? Would they help answer the user query or do they need more processing?"
   ]
  },
  {
   "cell_type": "code",
   "execution_count": 20,
   "metadata": {},
   "outputs": [],
   "source": [
    "import pandas as pd\n",
    "\n",
    "trans_df = pd.DataFrame(transcript)"
   ]
  },
  {
   "cell_type": "code",
   "execution_count": 22,
   "metadata": {},
   "outputs": [],
   "source": [
    "trans_df['text_len'] = trans_df.text.str.len()"
   ]
  },
  {
   "cell_type": "code",
   "execution_count": 23,
   "metadata": {},
   "outputs": [
    {
     "data": {
      "text/html": [
       "<div>\n",
       "<style scoped>\n",
       "    .dataframe tbody tr th:only-of-type {\n",
       "        vertical-align: middle;\n",
       "    }\n",
       "\n",
       "    .dataframe tbody tr th {\n",
       "        vertical-align: top;\n",
       "    }\n",
       "\n",
       "    .dataframe thead th {\n",
       "        text-align: right;\n",
       "    }\n",
       "</style>\n",
       "<table border=\"1\" class=\"dataframe\">\n",
       "  <thead>\n",
       "    <tr style=\"text-align: right;\">\n",
       "      <th></th>\n",
       "      <th>text</th>\n",
       "      <th>start</th>\n",
       "      <th>duration</th>\n",
       "      <th>text_len</th>\n",
       "    </tr>\n",
       "  </thead>\n",
       "  <tbody>\n",
       "    <tr>\n",
       "      <th>0</th>\n",
       "      <td>StatQuest breaks it down into bite-sized piece...</td>\n",
       "      <td>0.50</td>\n",
       "      <td>6.500</td>\n",
       "      <td>56</td>\n",
       "    </tr>\n",
       "    <tr>\n",
       "      <th>1</th>\n",
       "      <td>Hello, I'm Josh Starmer and welcome to StatQue...</td>\n",
       "      <td>8.00</td>\n",
       "      <td>6.040</td>\n",
       "      <td>82</td>\n",
       "    </tr>\n",
       "    <tr>\n",
       "      <th>2</th>\n",
       "      <td>go through Principal Component Analysis (PCA) ...</td>\n",
       "      <td>14.09</td>\n",
       "      <td>6.389</td>\n",
       "      <td>106</td>\n",
       "    </tr>\n",
       "    <tr>\n",
       "      <th>3</th>\n",
       "      <td>You'll learn about what PCA does, how it does ...</td>\n",
       "      <td>23.00</td>\n",
       "      <td>5.064</td>\n",
       "      <td>105</td>\n",
       "    </tr>\n",
       "    <tr>\n",
       "      <th>4</th>\n",
       "      <td>Let's start with a simple data set.</td>\n",
       "      <td>30.70</td>\n",
       "      <td>2.100</td>\n",
       "      <td>35</td>\n",
       "    </tr>\n",
       "  </tbody>\n",
       "</table>\n",
       "</div>"
      ],
      "text/plain": [
       "                                                text  start  duration  \\\n",
       "0  StatQuest breaks it down into bite-sized piece...   0.50     6.500   \n",
       "1  Hello, I'm Josh Starmer and welcome to StatQue...   8.00     6.040   \n",
       "2  go through Principal Component Analysis (PCA) ...  14.09     6.389   \n",
       "3  You'll learn about what PCA does, how it does ...  23.00     5.064   \n",
       "4                Let's start with a simple data set.  30.70     2.100   \n",
       "\n",
       "   text_len  \n",
       "0        56  \n",
       "1        82  \n",
       "2       106  \n",
       "3       105  \n",
       "4        35  "
      ]
     },
     "execution_count": 23,
     "metadata": {},
     "output_type": "execute_result"
    }
   ],
   "source": [
    "trans_df.head()"
   ]
  },
  {
   "cell_type": "code",
   "execution_count": 24,
   "metadata": {},
   "outputs": [
    {
     "data": {
      "text/html": [
       "<div>\n",
       "<style scoped>\n",
       "    .dataframe tbody tr th:only-of-type {\n",
       "        vertical-align: middle;\n",
       "    }\n",
       "\n",
       "    .dataframe tbody tr th {\n",
       "        vertical-align: top;\n",
       "    }\n",
       "\n",
       "    .dataframe thead th {\n",
       "        text-align: right;\n",
       "    }\n",
       "</style>\n",
       "<table border=\"1\" class=\"dataframe\">\n",
       "  <thead>\n",
       "    <tr style=\"text-align: right;\">\n",
       "      <th></th>\n",
       "      <th>start</th>\n",
       "      <th>duration</th>\n",
       "      <th>text_len</th>\n",
       "    </tr>\n",
       "  </thead>\n",
       "  <tbody>\n",
       "    <tr>\n",
       "      <th>count</th>\n",
       "      <td>180.000000</td>\n",
       "      <td>180.000000</td>\n",
       "      <td>180.000000</td>\n",
       "    </tr>\n",
       "    <tr>\n",
       "      <th>mean</th>\n",
       "      <td>638.178572</td>\n",
       "      <td>6.322017</td>\n",
       "      <td>77.183333</td>\n",
       "    </tr>\n",
       "    <tr>\n",
       "      <th>std</th>\n",
       "      <td>378.839422</td>\n",
       "      <td>1.914191</td>\n",
       "      <td>19.808997</td>\n",
       "    </tr>\n",
       "    <tr>\n",
       "      <th>min</th>\n",
       "      <td>0.500000</td>\n",
       "      <td>1.900000</td>\n",
       "      <td>24.000000</td>\n",
       "    </tr>\n",
       "    <tr>\n",
       "      <th>25%</th>\n",
       "      <td>315.050500</td>\n",
       "      <td>5.085750</td>\n",
       "      <td>67.500000</td>\n",
       "    </tr>\n",
       "    <tr>\n",
       "      <th>50%</th>\n",
       "      <td>631.800000</td>\n",
       "      <td>6.388000</td>\n",
       "      <td>82.000000</td>\n",
       "    </tr>\n",
       "    <tr>\n",
       "      <th>75%</th>\n",
       "      <td>957.815750</td>\n",
       "      <td>7.619750</td>\n",
       "      <td>85.000000</td>\n",
       "    </tr>\n",
       "    <tr>\n",
       "      <th>max</th>\n",
       "      <td>1307.787000</td>\n",
       "      <td>11.063000</td>\n",
       "      <td>120.000000</td>\n",
       "    </tr>\n",
       "  </tbody>\n",
       "</table>\n",
       "</div>"
      ],
      "text/plain": [
       "             start    duration    text_len\n",
       "count   180.000000  180.000000  180.000000\n",
       "mean    638.178572    6.322017   77.183333\n",
       "std     378.839422    1.914191   19.808997\n",
       "min       0.500000    1.900000   24.000000\n",
       "25%     315.050500    5.085750   67.500000\n",
       "50%     631.800000    6.388000   82.000000\n",
       "75%     957.815750    7.619750   85.000000\n",
       "max    1307.787000   11.063000  120.000000"
      ]
     },
     "execution_count": 24,
     "metadata": {},
     "output_type": "execute_result"
    }
   ],
   "source": [
    "trans_df.describe()"
   ]
  },
  {
   "cell_type": "markdown",
   "metadata": {},
   "source": [
    "The max length of the chunk text is 120 which is indeed a small number for most of the embedding models which come with there own input text length limitations.\n",
    "Infact the size is appropriate enough for us to later explore merging the relevant chunks on the basis of neighboring chunk similarity in case we need to improve the quality of RAG based answer generation.\n",
    "In other approach, we may also explore merging all the chunks into a single long text which we can choose to chunk in a custom manner.\n",
    "\n",
    "For now we will start with the current chunks."
   ]
  },
  {
   "cell_type": "markdown",
   "metadata": {},
   "source": [
    "We found that these chunks are too small and broken up at completely random places which makes it hard to retrieve relevant chunks and for the LLM to make any sense. Now the experiment I am trying is to merge 4 chunks to form 1."
   ]
  },
  {
   "cell_type": "code",
   "execution_count": 22,
   "metadata": {},
   "outputs": [],
   "source": [
    "video_id = \"FgakZw6K1QQ\"\n",
    "transcript = YouTubeTranscriptApi.get_transcript(video_id, languages = ['en'])\n",
    "\n",
    "new_chunks = []\n",
    "for i in range(0, len(transcript), 4):\n",
    "    new_chunks.append({\"text\":\" \".join([chunk['text'] for chunk in transcript[i:i+4]])})\n"
   ]
  },
  {
   "cell_type": "code",
   "execution_count": 23,
   "metadata": {},
   "outputs": [
    {
     "data": {
      "text/plain": [
       "180"
      ]
     },
     "execution_count": 23,
     "metadata": {},
     "output_type": "execute_result"
    }
   ],
   "source": [
    "len(transcript)"
   ]
  },
  {
   "cell_type": "code",
   "execution_count": 24,
   "metadata": {},
   "outputs": [
    {
     "data": {
      "text/plain": [
       "45"
      ]
     },
     "execution_count": 24,
     "metadata": {},
     "output_type": "execute_result"
    }
   ],
   "source": [
    "len(new_chunks)"
   ]
  },
  {
   "cell_type": "code",
   "execution_count": 26,
   "metadata": {},
   "outputs": [
    {
     "data": {
      "text/plain": [
       "[{'text': \"StatQuest breaks it down into bite-sized pieces, hooray! Hello, I'm Josh Starmer and welcome to StatQuest. In this StatQuest we're going to go through Principal Component Analysis (PCA) one step at a time using Singular Value Decomposition (SVD). You'll learn about what PCA does, how it does it, and how to use it to get deeper insight into your data.\"},\n",
       " {'text': \"Let's start with a simple data set. We've measured the transcription of two genes, Gene 1 and Gene 2,\\xa0in\\xa06\\xa0different mice. Note: If you're not into mice and genes, think of the mice as individual samples and the genes as variables that we measure for each sample.\"},\n",
       " {'text': \"For example, the samples could be students in high school and the variables could be test scores in math and reading, or the samples could be businesses and the variables could be market capitalization and the number of employees. Okay, now we're back to mice and genes, because I'm a geneticist and I work in a genetics department.\"},\n",
       " {'text': \"If we only measure one gene we can plot the data on a number line. Mice 1, 2, and 3 have relatively high values and mice 4, 5, and 6 have relatively low values. Even though it's a simple graph, it shows us that mice 1, 2, and 3 are more similar to each other than they are to mice 4, 5, and 6.\"},\n",
       " {'text': 'If we measured 2 genes, then we can plot the data on a two-dimensional X-Y graph. Gene 1 is the x-axis and spans one of the two dimensions in this graph. Gene 2 is the y-axis and spans the other dimension. We can see that mice 1, 2, and 3 cluster on the right side and mice 4, 5, and 6 cluster on the lower left hand side.'}]"
      ]
     },
     "execution_count": 26,
     "metadata": {},
     "output_type": "execute_result"
    }
   ],
   "source": [
    "new_chunks[:5]"
   ]
  }
 ],
 "metadata": {
  "kernelspec": {
   "display_name": "readthevideo_env",
   "language": "python",
   "name": "python3"
  },
  "language_info": {
   "codemirror_mode": {
    "name": "ipython",
    "version": 3
   },
   "file_extension": ".py",
   "mimetype": "text/x-python",
   "name": "python",
   "nbconvert_exporter": "python",
   "pygments_lexer": "ipython3",
   "version": "3.11.9"
  }
 },
 "nbformat": 4,
 "nbformat_minor": 2
}
